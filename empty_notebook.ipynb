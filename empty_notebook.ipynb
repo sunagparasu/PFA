{
  "cells": [
    {
      "cell_type": "code",
      "execution_count": null,
      "metadata": {},
      "outputs": [],
      "source": [
        "import os\n",
        "from utils import util, trainer, dataset, tools\n",
        "from utils.tools import MyArgumentParser\n",
        "from omegaconf import OmegaConf\n",
        "from sklearn.model_selection import train_test_split\n",
        "import model\n",
        "import torch\n",
        "from torch.utils.data import DataLoader\n",
        "import torch.nn.functional as F\n",
        "from PIL import Image"
      ]
    },
    {
      "cell_type": "markdown",
      "metadata": {},
      "source": [
        "- Setting the seed"
      ]
    },
    {
      "cell_type": "code",
      "execution_count": 2,
      "metadata": {},
      "outputs": [],
      "source": [
        "# Set random seed for reproducibility\n",
        "util.setup_seed(42)"
      ]
    },
    {
      "cell_type": "markdown",
      "metadata": {},
      "source": [
        "- Creating `train.txt`, `val.txt` and `test.txt`."
      ]
    },
    {
      "cell_type": "code",
      "execution_count": 3,
      "metadata": {},
      "outputs": [],
      "source": [
        "images_list = [x.split('.')[0] for x in os.listdir('/home/sunag/Documents/ML/PFA/dataset/train/images')]\n",
        "train_list, val_list = train_test_split(images_list, test_size=0.2, random_state=42)\n",
        "\n",
        "#Create a splits directory if it doesn't exist\n",
        "os.makedirs('/home/sunag/Documents/ML/PFA/dataset/train/splits', exist_ok=True)\n",
        "\n",
        "# Write train.txt\n",
        "with open(os.path.join('/home/sunag/Documents/ML/PFA/dataset/train/splits', 'train.txt'), 'w') as f:\n",
        "    for item in train_list:\n",
        "        f.write(f\"{item}\\n\")\n",
        "\n",
        "# Write val.txt\n",
        "with open(os.path.join('/home/sunag/Documents/ML/PFA/dataset/train/splits', 'val.txt'), 'w') as f:\n",
        "    for item in val_list:\n",
        "        f.write(f\"{item}\\n\")\n",
        "\n",
        "# Create test.txt\n",
        "test_list = [x.split('.')[0] for x in os.listdir('/home/sunag/Documents/ML/PFA/dataset/test1/images')]\n",
        "os.makedirs('/home/sunag/Documents/ML/PFA/dataset/test1/splits', exist_ok=True)\n",
        "with open(os.path.join('/home/sunag/Documents/ML/PFA/dataset/test1/splits', 'test.txt'), 'w') as f:\n",
        "    for item in test_list:\n",
        "        f.write(f\"{item}\\n\")"
      ]
    },
    {
      "cell_type": "code",
      "execution_count": null,
      "metadata": {},
      "outputs": [
        {
          "name": "stdout",
          "output_type": "stream",
          "text": [
            "Image shape: (375, 500, 3), Scribble shape: (375, 500, 3), Class label shape: torch.Size([1]), Path: /home/sunag/Documents/ML/PFA/dataset/train/images/2010_000622.jpg\n",
            "Image shape: (375, 500, 3), Scribble shape: (375, 500, 3), Class label shape: torch.Size([1]), Path: /home/sunag/Documents/ML/PFA/dataset/test1/images/2010_005888.jpg\n"
          ]
        }
      ],
      "source": [
        "# obj = dataset.ScribbleClassData(data_list='train.txt',\n",
        "#                                 data_root='/home/sunag/Documents/ML/PFA/dataset/train',\n",
        "#                                 transform=None,\n",
        "#                                 path='scribbles')\n",
        "# a, b, c, d = obj[8]  # Get the first item from the dataset\n",
        "# print(f\"Image shape: {a.shape}, Scribble shape: {b.shape}, Class label shape: {c.shape}, Path: {d}\")\n",
        "\n",
        "# obj2 = dataset.ScribbleClassData(data_list='test.txt',\n",
        "#                                  data_root='/home/sunag/Documents/ML/PFA/dataset/test1',\n",
        "#                                  transform=None,\n",
        "#                                  path='scribbles')\n",
        "# a2, b2, c2, d2 = obj2[8]  # Get the first item from the test dataset\n",
        "# print(f\"Image shape: {a2.shape}, Scribble shape: {b2.shape}, Class label shape: {c2.shape}, Path: {d2}\")"
      ]
    },
    {
      "cell_type": "code",
      "execution_count": null,
      "metadata": {},
      "outputs": [],
      "source": [
        "# obj3 = util.get_loader(is_train=True, args=cfg)\n",
        "# obj4 = util.get_loader(is_train=False, args=cfg)"
      ]
    },
    {
      "cell_type": "markdown",
      "metadata": {},
      "source": [
        "- Training and validation code"
      ]
    },
    {
      "cell_type": "code",
      "execution_count": null,
      "metadata": {},
      "outputs": [],
      "source": [
        "cfg = OmegaConf.load(\"/home/sunag/Documents/ML/PFA/config/train.yaml\")\n",
        "#cfg2 = OmegaConf.load(\"/home/sunag/Documents/ML/PFA/config/test.yaml\")\n",
        "cfg.work_dir.ckpt_dir = os.path.join(cfg.work_dir.ckpt_dir, cfg.project_name)\n",
        "os.makedirs(cfg.work_dir.ckpt_dir, exist_ok=True)\n",
        "gpu_ids = ''\n",
        "for gpu_id in cfg.train.gpu_ids:\n",
        "    gpu_ids += str(gpu_id) + ','\n",
        "gpu_ids = gpu_ids[:-1]\n",
        "\n",
        "trainer = trainer.MixTrTrainer(args=cfg)\n",
        "trainer.train_model()"
      ]
    },
    {
      "cell_type": "markdown",
      "metadata": {},
      "source": [
        "- Inference code"
      ]
    },
    {
      "cell_type": "code",
      "execution_count": null,
      "metadata": {},
      "outputs": [],
      "source": [
        "mean = [0.485, 0.456, 0.406]\n",
        "mean = [item * 255 for item in mean]\n",
        "std = [0.229, 0.224, 0.225]\n",
        "std = [item * 255 for item in std]\n",
        "test_transform = tools.Compose([\n",
        "               tools.Crop([320, 320],\n",
        "                    crop_type='center', padding=mean, ignore_label=255),\n",
        "               tools.ToTensor(),\n",
        "               tools.Normalize(mean=mean, std=std)])\n",
        "\n",
        "os.makedirs('/home/sunag/Documents/ML/PFA/dataset/test1/PFA_preds', exist_ok=True)\n",
        "\n",
        "test_data = dataset.ScribbleClassData(data_list='test.txt',\n",
        "                                 data_root='/home/sunag/Documents/ML/PFA/dataset/test1',\n",
        "                                 transform=test_transform,\n",
        "                                 path='scribbles')\n",
        "\n",
        "# test_dataloader = DataLoader(test_data, num_workers=2,\n",
        "#                          batch_size=12,\n",
        "#                           shuffle=True, pin_memory=True)\n",
        "\n",
        "for i in range(len(test_data)):\n",
        "    image, mask = test_data[i]\n",
        "    input_size = image.size()[2:4]\n",
        "    image = image.unsqueeze(0)  # Add batch dimension\n",
        "    mask = mask.unsqueeze(0)  # Add batch dimension\n",
        "    with torch.no_grad():\n",
        "       _, output = model.model(image.to(device='cuda' if torch.cuda.is_available() else 'cpu'))\n",
        "       pred = F.interpolate(output, size=input_size, mode='bilinear', align_corners=True).cpu().numpy()\n",
        "       pred = Image.fromarray(pred)\n",
        "       pred.save(f\"/home/sunag/Documents/ML/PFA/dataset/test1/PFA_preds/output_{test_list[i]}.png\")"
      ]
    }
  ],
  "metadata": {
    "colab": {
      "name": "Welcome To Colab",
      "provenance": [],
      "toc_visible": true
    },
    "kernelspec": {
      "display_name": "ml_challenge",
      "language": "python",
      "name": "python3"
    },
    "language_info": {
      "codemirror_mode": {
        "name": "ipython",
        "version": 3
      },
      "file_extension": ".py",
      "mimetype": "text/x-python",
      "name": "python",
      "nbconvert_exporter": "python",
      "pygments_lexer": "ipython3",
      "version": "3.11.13"
    }
  },
  "nbformat": 4,
  "nbformat_minor": 0
}
